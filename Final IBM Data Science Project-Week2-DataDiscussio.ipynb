{
    "cells": [
        {
            "cell_type": "markdown",
            "metadata": {
                "collapsed": true
            },
            "source": "<a href=\"https://www.bigdatauniversity.com\"><img src=\"https://ibm.box.com/shared/static/cw2c7r3o20w9zn8gkecaeyjhgw3xdgbj.png\" width=\"400\" align=\"center\"></a>\n\n<h1 align=\"center\"><font size=\"5\">Final Project Data Science</font></h1>\n\n"
        },
        {
            "cell_type": "markdown",
            "metadata": {},
            "source": "\nIn this notebook I will demonstrate my final data science projects.\n\nI will load a dataset using Pandas library, and apply the following algorithms, and find the best one for this specific dataset by accuracy evaluation methods.\n\nLets first load required libraries:"
        },
        {
            "cell_type": "markdown",
            "metadata": {},
            "source": "Hello Capstone Project Course!"
        },
        {
            "cell_type": "markdown",
            "metadata": {},
            "source": "### Business Discussion\n<div></div>"
        },
        {
            "cell_type": "markdown",
            "metadata": {},
            "source": "### Data \n<div>\n<p>I will be utalizing the collisions data set from SPD and recorded by Traffic Records to develop a model to predict potential road accidents. This model will assist road users to reduce accident occurenace or severity when negative road factors exist.   </p>\n<p>The data set shows road collisions for all years beginning in 2004 to present in the Seattle area as measured by the SDOT Traffic Management Division, Traffic Records Group. Road collisions measured in the data set include: car, pedestrian,\nand vehicle accidents. The data was measured on weekly basis and consists of 37 individual severity measures that store traffic related accident information. Overall just over nineteen thousand (194673) road accidents were recorded showing various road collisions.</p>\n<p> The fields recorded in the data set provide valuable insight into the factors that contribute to road accidents as well there severity. Accident location, severity, injuries recorded, weather, speeding and road condition are some of those key feautures recorded. The successfully implementaion of the model will assist road users or navigation apps to provide road drivers and other road users with warnings of potential accident and allowing actions to mitigate when negative conditions exist.  </p>\n</div>\n"
        },
        {
            "cell_type": "code",
            "execution_count": null,
            "metadata": {},
            "outputs": [],
            "source": ""
        }
    ],
    "metadata": {
        "kernelspec": {
            "display_name": "Python 3.6",
            "language": "python",
            "name": "python3"
        },
        "language_info": {
            "codemirror_mode": {
                "name": "ipython",
                "version": 3
            },
            "file_extension": ".py",
            "mimetype": "text/x-python",
            "name": "python",
            "nbconvert_exporter": "python",
            "pygments_lexer": "ipython3",
            "version": "3.6.9"
        }
    },
    "nbformat": 4,
    "nbformat_minor": 1
}